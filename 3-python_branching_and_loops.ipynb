{
  "cells": [
    {
      "cell_type": "markdown",
      "metadata": {
        "id": "-xJ4soCY6Pg8"
      },
      "source": [
        "# Branching using Conditional Statements and Loops in Python\n",
        "\n",
        "![](https://i.imgur.com/7RfcHV0.png)\n"
      ]
    },
    {
      "cell_type": "markdown",
      "metadata": {
        "id": "sTyw2Qis6Pg-"
      },
      "source": [
        "This tutorial covers the following topics:\n",
        "\n",
        "- Branching with `if`, `else` and `elif`\n",
        "- Nested conditions and `if` expressions\n",
        "- Iteration with `while` loops\n",
        "- Iterating over containers with `for` loops\n",
        "- Nested loops, `break` and `continue` statements"
      ]
    },
    {
      "cell_type": "markdown",
      "metadata": {
        "id": "Y8jwn7HP6Pg_"
      },
      "source": [
        "## Branching with `if`, `else` and `elif`\n",
        "\n",
        "One of the most powerful features of programming languages is *branching*: the ability to make decisions and execute a different set of statements based on whether one or more conditions are true.\n",
        "\n",
        "### The `if` statement\n",
        "\n",
        "In Python, branching is implemented using the `if` statement, which is written as follows:\n",
        "\n",
        "```\n",
        "if condition:\n",
        "    statement1\n",
        "    statement2\n",
        "```\n",
        "\n",
        "The `condition` can be a value, variable or expression. If the condition evaluates to `True`, then the statements within the *`if` block* are executed. Notice the four spaces before `statement1`, `statement2`, etc. The spaces inform Python that these statements are associated with the `if` statement above. This technique of structuring code by adding spaces is called *indentation*.\n",
        "\n",
        "> **Indentation**: Python relies heavily on *indentation* (white space before a statement) to define code structure. This makes Python code easy to read and understand. You can run into problems if you don't use indentation properly. Indent your code by placing the cursor at the start of the line and pressing the `Tab` key once to add 4 spaces. Pressing `Tab` again will indent the code further by 4 more spaces, and press `Shift+Tab` will reduce the indentation by 4 spaces.\n",
        "\n",
        "\n",
        "For example, let's write some code to check and print a message if a given number is even."
      ]
    },
    {
      "cell_type": "code",
      "execution_count": null,
      "metadata": {
        "id": "x0kYg7v36PhA"
      },
      "outputs": [],
      "source": [
        "a_number = 34"
      ]
    },
    {
      "cell_type": "code",
      "execution_count": null,
      "metadata": {
        "id": "7GYI1zmn6PhB"
      },
      "outputs": [],
      "source": [
        "if a_number % 2 == 0:\n",
        "    print(\"We're inside an if block\")\n",
        "    print('The given number {} is even.'.format(a_number))"
      ]
    },
    {
      "cell_type": "markdown",
      "metadata": {
        "id": "kWkyAuVB6PhB"
      },
      "source": [
        "We use the modulus operator `%` to calculate the remainder from the division of `a_number` by `2`. Then, we use the comparison operator `==` check if the remainder is `0`, which tells us whether the number is even, i.e., divisible by 2.\n",
        "\n",
        "Since `34` is divisible by `2`, the expression `a_number % 2 == 0` evaluates to `True`, so the `print` statement under the `if` statement is executed. Also, note that we are using the string `format` method to include the number within the message.\n",
        "\n",
        "Let's try the above again with an odd number."
      ]
    },
    {
      "cell_type": "markdown",
      "metadata": {
        "id": "QgZTsNky6PhC"
      },
      "source": [
        "As expected, since the condition `another_number % 2 == 0` evaluates to `False`, no message is printed.\n",
        "\n",
        "### The `else` statement\n",
        "\n",
        "We may want to print a different message if the number is not even in the above example. This can be done by adding the `else` statement. It is written as follows:\n",
        "\n",
        "```\n",
        "if condition:\n",
        "    statement1\n",
        "    statement2\n",
        "else:\n",
        "    statement4\n",
        "    statement5\n",
        "\n",
        "```\n",
        "\n",
        "If `condition` evaluates to `True`, the statements in the `if` block are executed. If it evaluates to `False`, the statements in the `else` block are executed."
      ]
    },
    {
      "cell_type": "code",
      "execution_count": null,
      "metadata": {
        "id": "TgJ-z7pz6PhD"
      },
      "outputs": [],
      "source": [
        "another_number = 33"
      ]
    },
    {
      "cell_type": "code",
      "execution_count": null,
      "metadata": {
        "id": "kEVParmn6PhD"
      },
      "outputs": [],
      "source": [
        "if another_number % 2 == 0:\n",
        "    print('The given number {} is even.'.format(another_number))\n",
        "else:\n",
        "    print('The given number {} is odd.'.format(another_number))"
      ]
    },
    {
      "cell_type": "markdown",
      "metadata": {
        "id": "I2APrTEg6PhD"
      },
      "source": [
        "Here's another example, which uses the `in` operator to check membership within a tuple."
      ]
    },
    {
      "cell_type": "code",
      "execution_count": null,
      "metadata": {
        "id": "aRWaPVQ36PhD"
      },
      "outputs": [],
      "source": [
        "the_3_musketeers = ('Athos', 'Porthos', 'Aramis')"
      ]
    },
    {
      "cell_type": "code",
      "execution_count": null,
      "metadata": {
        "id": "6cj474_U6PhD"
      },
      "outputs": [],
      "source": [
        "a_candidate = \"D'Artagnan\""
      ]
    },
    {
      "cell_type": "code",
      "execution_count": null,
      "metadata": {
        "id": "Lbw8seKG6PhD"
      },
      "outputs": [],
      "source": [
        "if a_candidate in the_3_musketeers:\n",
        "    print(\"{} is a musketeer\".format(a_candidate))\n",
        "else:\n",
        "    print(\"{} is not a musketeer\".format(a_candidate))"
      ]
    },
    {
      "cell_type": "markdown",
      "metadata": {
        "id": "vCcdR6qi6PhD"
      },
      "source": [
        "### The `elif` statement\n",
        "\n",
        "Python also provides an `elif` statement (short for \"else if\") to chain a series of conditional blocks. The conditions are evaluated one by one. For the first condition that evaluates to `True`, the block of statements below it is executed. The remaining conditions and statements are not evaluated. So, in an `if`, `elif`, `elif`... chain, at most one block of statements is executed, the one corresponding to the first condition that evaluates to `True`."
      ]
    },
    {
      "cell_type": "code",
      "execution_count": null,
      "metadata": {
        "id": "oCwtIGFG6PhD"
      },
      "outputs": [],
      "source": [
        "today = 'Wednesday'"
      ]
    },
    {
      "cell_type": "code",
      "execution_count": null,
      "metadata": {
        "id": "KkWKdvvg6PhD"
      },
      "outputs": [],
      "source": [
        "if today == 'Sunday':\n",
        "    print(\"Today is the day of the sun.\")\n",
        "elif today == 'Monday':\n",
        "    print(\"Today is the day of the moon.\")\n",
        "elif today == 'Tuesday':\n",
        "    print(\"Today is the day of Tyr, the god of war.\")\n",
        "elif today == 'Wednesday':\n",
        "    print(\"Today is the day of Odin, the supreme diety.\")\n",
        "elif today == 'Thursday':\n",
        "    print(\"Today is the day of Thor, the god of thunder.\")\n",
        "elif today == 'Friday':\n",
        "    print(\"Today is the day of Frigga, the goddess of beauty.\")\n",
        "elif today == 'Saturday':\n",
        "    print(\"Today is the day of Saturn, the god of fun and feasting.\")"
      ]
    },
    {
      "cell_type": "markdown",
      "metadata": {
        "id": "bIzE8PdS6PhD"
      },
      "source": [
        "In the above example, the first 3 conditions evaluate to `False`, so none of the first 3 messages are printed. The fourth condition evaluates to `True`, so the corresponding message is printed. The remaining conditions are skipped. Try changing the value of `today` above and re-executing the cells to print all the different messages.\n",
        "\n",
        "\n",
        "To verify that the remaining conditions are skipped, let us try another example."
      ]
    },
    {
      "cell_type": "code",
      "execution_count": null,
      "metadata": {
        "id": "aZlUrdON6PhD"
      },
      "outputs": [],
      "source": [
        "a_number = 15"
      ]
    },
    {
      "cell_type": "code",
      "execution_count": null,
      "metadata": {
        "id": "PjzXOpr16PhE"
      },
      "outputs": [],
      "source": [
        "if a_number % 2 == 0:\n",
        "    print('{} is divisible by 2'.format(a_number))\n",
        "elif a_number % 3 == 0:\n",
        "    print('{} is divisible by 3'.format(a_number))\n",
        "elif a_number % 5 == 0:\n",
        "    print('{} is divisible by 5'.format(a_number))\n",
        "elif a_number % 7 == 0:\n",
        "    print('{} is divisible by 7'.format(a_number))"
      ]
    },
    {
      "cell_type": "markdown",
      "metadata": {
        "id": "m-sSynqr6PhE"
      },
      "source": [
        "Note that the message `15 is divisible by 5` is not printed because the condition `a_number % 5 == 0` isn't evaluated, since the previous condition `a_number % 3 == 0` evaluates to `True`. This is the key difference between using a chain of `if`, `elif`, `elif`... statements vs. a chain of `if` statements, where each condition is evaluated independently."
      ]
    },
    {
      "cell_type": "code",
      "execution_count": null,
      "metadata": {
        "id": "wzemZ1El6PhE"
      },
      "outputs": [],
      "source": [
        "if a_number % 2 == 0:\n",
        "    print('{} is divisible by 2'.format(a_number))\n",
        "if a_number % 3 == 0:\n",
        "    print('{} is divisible by 3'.format(a_number))\n",
        "if a_number % 5 == 0:\n",
        "    print('{} is divisible by 5'.format(a_number))\n",
        "if a_number % 7 == 0:\n",
        "    print('{} is divisible by 7'.format(a_number))"
      ]
    },
    {
      "cell_type": "markdown",
      "metadata": {
        "id": "g10-fP6k6PhE"
      },
      "source": [
        "### Using `if`, `elif`, and `else` together\n",
        "\n",
        "You can also include an `else` statement at the end of a chain of `if`, `elif`... statements. This code within the `else` block is evaluated when none of the conditions hold true."
      ]
    },
    {
      "cell_type": "code",
      "execution_count": null,
      "metadata": {
        "id": "y6uwy1Ee6PhE"
      },
      "outputs": [],
      "source": [
        "a_number = 49"
      ]
    },
    {
      "cell_type": "code",
      "execution_count": null,
      "metadata": {
        "id": "_1Xcrh6R6PhE"
      },
      "outputs": [],
      "source": [
        "if a_number % 2 == 0:\n",
        "    print('{} is divisible by 2'.format(a_number))\n",
        "elif a_number % 3 == 0:\n",
        "    print('{} is divisible by 3'.format(a_number))\n",
        "elif a_number % 5 == 0:\n",
        "    print('{} is divisible by 5'.format(a_number))\n",
        "else:\n",
        "    print('All checks failed!')\n",
        "    print('{} is not divisible by 2, 3 or 5'.format(a_number))"
      ]
    },
    {
      "cell_type": "markdown",
      "metadata": {
        "id": "GFNOJW1U6PhE"
      },
      "source": [
        "Conditions can also be combined using the logical operators `and`, `or` and `not`. Logical operators are explained in detail in the [first tutorial](https://jovian.ml/aakashns/first-steps-with-python/v/4#C49)."
      ]
    },
    {
      "cell_type": "code",
      "execution_count": null,
      "metadata": {
        "id": "8LM-VF8n6PhE"
      },
      "outputs": [],
      "source": [
        "a_number = 12"
      ]
    },
    {
      "cell_type": "code",
      "execution_count": null,
      "metadata": {
        "id": "-fjggonD6PhE"
      },
      "outputs": [],
      "source": [
        "if a_number % 3 == 0 and a_number % 5 == 0:\n",
        "    print(\"The number {} is divisible by 3 and 5\".format(a_number))\n",
        "elif not a_number % 5 == 0:\n",
        "    print(\"The number {} is not divisible by 5\".format(a_number))"
      ]
    },
    {
      "cell_type": "markdown",
      "metadata": {
        "id": "ATbLbFIX6PhE"
      },
      "source": [
        "### Non-Boolean Conditions\n",
        "\n",
        "Note that conditions do not necessarily have to be booleans. In fact, a condition can be any value. The value is converted into a boolean automatically using the `bool` operator. This means that falsy values like `0`, `''`, `{}`, `[]`, etc. evaluate to `False` and all other values evaluate to `True`."
      ]
    },
    {
      "cell_type": "code",
      "execution_count": null,
      "metadata": {
        "id": "AFaNRL_Y6PhE"
      },
      "outputs": [],
      "source": [
        "if '':\n",
        "    print('The condition evaluted to True')\n",
        "else:\n",
        "    print('The condition evaluted to False')"
      ]
    },
    {
      "cell_type": "code",
      "execution_count": null,
      "metadata": {
        "id": "Ry13dof26PhE"
      },
      "outputs": [],
      "source": [
        "if 'Hello':\n",
        "    print('The condition evaluted to True')\n",
        "else:\n",
        "    print('The condition evaluted to False')"
      ]
    },
    {
      "cell_type": "code",
      "execution_count": null,
      "metadata": {
        "id": "qcmBWXb86PhE"
      },
      "outputs": [],
      "source": [
        "if { 'a': 34 }:\n",
        "    print('The condition evaluted to True')\n",
        "else:\n",
        "    print('The condition evaluted to False')"
      ]
    },
    {
      "cell_type": "code",
      "execution_count": null,
      "metadata": {
        "id": "yZscpKMZ6PhE"
      },
      "outputs": [],
      "source": [
        "if None:\n",
        "    print('The condition evaluted to True')\n",
        "else:\n",
        "    print('The condition evaluted to False')"
      ]
    },
    {
      "cell_type": "markdown",
      "metadata": {
        "id": "9LsYRbx66PhF"
      },
      "source": [
        "### Nested conditional statements\n",
        "\n",
        "The code inside an `if` block can also include an `if` statement inside it. This pattern is called `nesting` and is used to check for another condition after a particular condition holds true."
      ]
    },
    {
      "cell_type": "code",
      "execution_count": null,
      "metadata": {
        "id": "rHhCFlpt6PhF"
      },
      "outputs": [],
      "source": [
        "a_number = 15"
      ]
    },
    {
      "cell_type": "code",
      "execution_count": null,
      "metadata": {
        "id": "0_-cW8uw6PhF"
      },
      "outputs": [],
      "source": [
        "if a_number % 2 == 0:\n",
        "    print(\"{} is even\".format(a_number))\n",
        "    if a_number % 3 == 0:\n",
        "        print(\"{} is also divisible by 3\".format(a_number))\n",
        "    else:\n",
        "        print(\"{} is not divisible by 3\".format(a_number))\n",
        "else:\n",
        "    print(\"{} is odd\".format(a_number))\n",
        "    if a_number % 5 == 0:\n",
        "        print(\"{} is also divisible by 5\".format(a_number))\n",
        "    else:\n",
        "        print(\"{} is not divisible by 5\".format(a_number))"
      ]
    },
    {
      "cell_type": "markdown",
      "metadata": {
        "id": "Rki2LDIF6PhF"
      },
      "source": [
        "Notice how the `print` statements are indented by 8 spaces to indicate that they are part of the inner `if`/`else` blocks.\n",
        "\n",
        "> Nested `if`, `else` statements are often confusing to read and prone to human error. It's good to avoid nesting whenever possible, or limit the nesting to 1 or 2 levels."
      ]
    },
    {
      "cell_type": "markdown",
      "metadata": {
        "id": "O10kjVFE6PhF"
      },
      "source": [
        "### Shorthand `if` conditional expression\n",
        "\n",
        "A frequent use case of the `if` statement involves testing a condition and setting a variable's value based on the condition."
      ]
    },
    {
      "cell_type": "code",
      "execution_count": null,
      "metadata": {
        "id": "euxApAtl6PhF"
      },
      "outputs": [],
      "source": [
        "a_number = 13\n",
        "\n",
        "if a_number % 2 == 0:\n",
        "    parity = 'even'\n",
        "else:\n",
        "    parity = 'odd'\n",
        "\n",
        "print('The number {} is {}.'.format(a_number, parity))"
      ]
    },
    {
      "cell_type": "markdown",
      "metadata": {
        "id": "LQCFiyXt6PhH"
      },
      "source": [
        "Python provides a shorter syntax, which allows writing such conditions in a single line of code. It is known as a *conditional expression*, sometimes also referred to as a *ternary operator*. It has the following syntax:\n",
        "\n",
        "```\n",
        "x = true_value if condition else false_value\n",
        "```\n",
        "\n",
        "It has the same behavior as the following `if`-`else` block:\n",
        "\n",
        "```\n",
        "if condition:\n",
        "    x = true_value\n",
        "else:\n",
        "    x = false_value\n",
        "```\n",
        "\n",
        "Let's try it out for the example above."
      ]
    },
    {
      "cell_type": "code",
      "execution_count": null,
      "metadata": {
        "id": "hHbKOm2s6PhH"
      },
      "outputs": [],
      "source": [
        "parity = 'even' if a_number % 2 == 0 else 'odd'"
      ]
    },
    {
      "cell_type": "code",
      "execution_count": null,
      "metadata": {
        "id": "j_XsdFwf6PhI"
      },
      "outputs": [],
      "source": [
        "print('The number {} is {}.'.format(a_number, parity))"
      ]
    },
    {
      "cell_type": "markdown",
      "metadata": {
        "id": "9tOcsQCE6PhI"
      },
      "source": [
        "### Statements and Expressions\n",
        "\n",
        "The conditional expression highlights an essential distinction between *statements* and *expressions* in Python.\n",
        "\n",
        "> **Statements**: A statement is an instruction that can be executed. Every line of code we have written so far is a statement e.g. assigning a variable, calling a function, conditional statements using `if`, `else`, and `elif`, loops using `for` and `while` etc.\n",
        "\n",
        "> **Expressions**: An expression is some code that evaluates to a value. Examples include values of different data types, arithmetic expressions, conditions, variables, function calls, conditional expressions, etc.\n",
        "\n",
        "\n",
        "Most expressions can be executed as statements, but not all statements are expressions. For example, the regular `if` statement is not an expression since it does not evaluate to a value. It merely performs some branching in the code. Similarly, loops and function definitions are not expressions (we'll learn more about these in later sections).\n",
        "\n",
        "As a rule of thumb, an expression is anything that can appear on the right side of the assignment operator `=`. You can use this as a test for checking whether something is an expression or not. You'll get a syntax error if you try to assign something that is not an expression."
      ]
    },
    {
      "cell_type": "code",
      "execution_count": null,
      "metadata": {
        "id": "5Ve6Cj0Z6PhI"
      },
      "outputs": [],
      "source": [
        "# if statement\n",
        "result = if a_number % 2 == 0:\n",
        "    'even'\n",
        "else:\n",
        "    'odd'"
      ]
    },
    {
      "cell_type": "code",
      "execution_count": null,
      "metadata": {
        "id": "wU3fFpyu6PhI"
      },
      "outputs": [],
      "source": [
        "# if expression\n",
        "result = 'even' if a_number % 2 == 0 else 'odd'"
      ]
    },
    {
      "cell_type": "markdown",
      "metadata": {
        "id": "Z6s-rcMW6PhI"
      },
      "source": [
        "### The `pass` statement\n",
        "\n",
        "`if` statements cannot be empty, there must be at least one statement in every `if` and `elif` block. You can use the `pass` statement to do nothing and avoid getting an error."
      ]
    },
    {
      "cell_type": "code",
      "execution_count": null,
      "metadata": {
        "id": "rL6oGA316PhI"
      },
      "outputs": [],
      "source": [
        "a_number = 9"
      ]
    },
    {
      "cell_type": "code",
      "execution_count": null,
      "metadata": {
        "id": "CBmrfMcu6PhI"
      },
      "outputs": [],
      "source": [
        "if a_number % 2 == 0:\n",
        "elif a_number % 3 == 0:\n",
        "    print('{} is divisible by 3 but not divisible by 2')"
      ]
    },
    {
      "cell_type": "code",
      "execution_count": null,
      "metadata": {
        "id": "ZR8_Fier6PhI"
      },
      "outputs": [],
      "source": [
        "if a_number % 2 == 0:\n",
        "    pass\n",
        "elif a_number % 3 == 0:\n",
        "    print('{} is divisible by 3 but not divisible by 2'.format(a_number))"
      ]
    },
    {
      "cell_type": "markdown",
      "metadata": {
        "id": "fslyb01z6PhJ"
      },
      "source": [
        "## Iteration with `while` loops\n",
        "\n",
        "Another powerful feature of programming languages, closely related to branching, is running one or more statements multiple times. This feature is often referred to as *iteration* on *looping*, and there are two ways to do this in Python: using `while` loops and `for` loops.\n",
        "\n",
        "`while` loops have the following syntax:\n",
        "\n",
        "```\n",
        "while condition:\n",
        "    statement(s)\n",
        "```\n",
        "\n",
        "Statements in the code block under `while` are executed repeatedly as long as the `condition` evaluates to `True`. Generally, one of the statements under `while` makes some change to a variable that causes the condition to evaluate to `False` after a certain number of iterations.\n",
        "\n",
        "Let's try to calculate the factorial of `100` using a `while` loop. The factorial of a number `n` is the product (multiplication) of all the numbers from `1` to `n`, i.e., `1*2*3*...*(n-2)*(n-1)*n`."
      ]
    },
    {
      "cell_type": "code",
      "execution_count": null,
      "metadata": {
        "id": "w5T5iC2u6PhJ"
      },
      "outputs": [],
      "source": [
        "result = 1\n",
        "i = 1\n",
        "\n",
        "while i <= 100:\n",
        "    result = result * i\n",
        "    i = i+1\n",
        "\n",
        "print('The factorial of 100 is: {}'.format(result))"
      ]
    },
    {
      "cell_type": "markdown",
      "metadata": {
        "id": "t5jOJAoF6PhJ"
      },
      "source": [
        "Here's how the above code works:\n",
        "\n",
        "* We initialize two variables, `result` and, `i`. `result` will contain the final outcome. And `i` is used to keep track of the next number to be multiplied with `result`. Both are initialized to 1 (can you explain why?)\n",
        "\n",
        "* The condition `i <= 100` holds true (since `i` is initially `1`), so the `while` block is executed.\n",
        "\n",
        "* The `result` is updated to `result * i`, `i` is increased by `1` and it now has the value `2`.\n",
        "\n",
        "* At this point, the condition `i <= 100` is evaluated again. Since it continues to hold true, `result` is again updated to `result * i`, and `i` is increased to `3`.\n",
        "\n",
        "* This process is repeated till the condition becomes false, which happens when `i` holds the value `101`. Once the condition evaluates to `False`, the execution of the loop ends, and the `print` statement below it is executed.\n",
        "\n",
        "Can you see why `result` contains the value of the factorial of 100 at the end? If not, try adding `print` statements inside the `while` block to print `result` and `i` in each iteration.\n",
        "\n"
      ]
    },
    {
      "cell_type": "markdown",
      "metadata": {
        "id": "0VOfhGW56PhJ"
      },
      "source": [
        "Here's another example that uses two `while` loops to create an interesting pattern."
      ]
    },
    {
      "cell_type": "code",
      "execution_count": null,
      "metadata": {
        "id": "a_u-tmTL6PhJ"
      },
      "outputs": [],
      "source": [
        "line = '*'\n",
        "max_length = 10\n",
        "\n",
        "while len(line) < max_length:\n",
        "    print(line)\n",
        "    line += \"*\"\n",
        "\n",
        "while len(line) > 0:\n",
        "    print(line)\n",
        "    line = line[:-1]"
      ]
    },
    {
      "cell_type": "markdown",
      "metadata": {
        "id": "Ej3NQMv46PhJ"
      },
      "source": [
        "Can you see how the above example works? As an exercise, try printing the following pattern using a while loop (Hint: use string concatenation):\n",
        "\n",
        "```\n",
        "          *\n",
        "         **\n",
        "        ***\n",
        "       ****\n",
        "      *****\n",
        "     ******\n",
        "      *****\n",
        "       ****\n",
        "        ***\n",
        "         **\n",
        "          *\n",
        "```\n",
        "\n",
        "Here's another one, putting the two together:\n",
        "\n",
        "\n",
        "```\n",
        "          *\n",
        "         ***\n",
        "        *****\n",
        "       *******\n",
        "      *********\n",
        "     ***********\n",
        "      *********\n",
        "       *******\n",
        "        *****\n",
        "         ***\n",
        "          *\n",
        "```\n",
        "\n",
        "Watch this playlist to learn how to create the above patterns: https://www.youtube.com/watch?v=2Icpbawb-vw&list=PLyMom0n-MBrpVcMqVV9kbA-hq2ygir0uW"
      ]
    },
    {
      "cell_type": "markdown",
      "metadata": {
        "id": "Q2WAHn8y6PhK"
      },
      "source": [
        "### `break` and `continue` statements\n",
        "\n",
        "You can use the `break` statement within the loop's body to immediately stop the execution and *break* out of the loop (even if the condition provided to `while` still holds true)."
      ]
    },
    {
      "cell_type": "code",
      "execution_count": null,
      "metadata": {
        "id": "4QQIpibK6PhK"
      },
      "outputs": [],
      "source": [
        "i = 1\n",
        "result = 1\n",
        "\n",
        "while i <= 100:\n",
        "    result *= i\n",
        "    if i == 42:\n",
        "        print('Magic number 42 reached! Stopping execution..')\n",
        "        break\n",
        "    i += 1\n",
        "\n",
        "print('i:', i)\n",
        "print('result:', result)"
      ]
    },
    {
      "cell_type": "markdown",
      "metadata": {
        "id": "RQk4vBo26PhK"
      },
      "source": [
        "As you can see above, the value of `i` at the end of execution is 42. This example also shows how you can use an `if` statement within a `while` loop.\n",
        "\n",
        "Sometimes you may not want to end the loop entirely, but simply skip the remaining statements in the loop and *continue* to the next loop. You can do this using the `continue` statement."
      ]
    },
    {
      "cell_type": "code",
      "execution_count": null,
      "metadata": {
        "id": "MOQNFdwO6PhK"
      },
      "outputs": [],
      "source": [
        "i = 1\n",
        "result = 1\n",
        "\n",
        "while i < 20:\n",
        "    i += 1\n",
        "    if i % 2 == 0:\n",
        "        print('Skipping {}'.format(i))\n",
        "        continue\n",
        "    print('Multiplying with {}'.format(i))\n",
        "    result = result * i\n",
        "\n",
        "print('i:', i)\n",
        "print('result:', result)"
      ]
    },
    {
      "cell_type": "markdown",
      "metadata": {
        "id": "-oVEvwH56PhK"
      },
      "source": [
        "In the example above, the statement `result = result * i` inside the loop is skipped when `i` is even, as indicated by the messages printed during execution.\n",
        "\n",
        "> **Logging**: The process of adding `print` statements at different points in the code (often within loops and conditional statements) for inspecting the values of variables at various stages of execution is called logging. As our programs get larger, they naturally become prone to human errors. Logging can help in verifying the program is working as expected. In many cases, `print` statements are added while writing & testing some code and are removed later."
      ]
    },
    {
      "cell_type": "markdown",
      "metadata": {
        "id": "iSoPXxvx6PhK"
      },
      "source": [
        "## Iteration with `for` loops\n",
        "\n",
        "A `for` loop is used for iterating or looping over sequences, i.e., lists, tuples, dictionaries, strings, and *ranges*. For loops have the following syntax:\n",
        "\n",
        "```\n",
        "for value in sequence:\n",
        "    statement(s)\n",
        "```\n",
        "\n",
        "The statements within the loop are executed once for each element in `sequence`. Here's an example that prints all the element of a list."
      ]
    },
    {
      "cell_type": "code",
      "execution_count": null,
      "metadata": {
        "id": "O6H_L3yw6PhK"
      },
      "outputs": [],
      "source": [
        "days = ['Monday', 'Tuesday', 'Wednesday', 'Thursday', 'Friday']\n",
        "\n",
        "for day in days:\n",
        "    print(day)"
      ]
    },
    {
      "cell_type": "markdown",
      "metadata": {
        "id": "5H8HF7E56PhK"
      },
      "source": [
        "Let's try using `for` loops with some other data types."
      ]
    },
    {
      "cell_type": "code",
      "execution_count": null,
      "metadata": {
        "id": "Bl4SGCJx6PhK"
      },
      "outputs": [],
      "source": [
        "# Looping over a string\n",
        "for char in 'Monday':\n",
        "    print(char)"
      ]
    },
    {
      "cell_type": "code",
      "execution_count": null,
      "metadata": {
        "id": "VwiaTn8m6PhK"
      },
      "outputs": [],
      "source": [
        "# Looping over a tuple\n",
        "for fruit in ('Apple', 'Banana', 'Guava'):\n",
        "    print(\"Here's a fruit:\", fruit)"
      ]
    },
    {
      "cell_type": "code",
      "execution_count": null,
      "metadata": {
        "id": "PBAbnj1S6PhL"
      },
      "outputs": [],
      "source": [
        "# Looping over a dictionary\n",
        "person = {\n",
        "    'name': 'John Doe',\n",
        "    'sex': 'Male',\n",
        "    'age': 32,\n",
        "    'married': True\n",
        "}\n",
        "\n",
        "for key in person:\n",
        "    print(\"Key:\", key, \",\", \"Value:\", person[key])"
      ]
    },
    {
      "cell_type": "markdown",
      "metadata": {
        "id": "K3e2kyqa6PhL"
      },
      "source": [
        "Note that while using a dictionary with a `for` loop, the iteration happens over the dictionary's keys. The key can be used within the loop to access the value. You can also iterate directly over the values using the `.values` method or over key-value pairs using the `.items` method."
      ]
    },
    {
      "cell_type": "code",
      "execution_count": null,
      "metadata": {
        "id": "RCnCJLa26PhL"
      },
      "outputs": [],
      "source": [
        "for value in person.values():\n",
        "    print(value)"
      ]
    },
    {
      "cell_type": "code",
      "execution_count": null,
      "metadata": {
        "id": "zV4LNSkF6PhL"
      },
      "outputs": [],
      "source": [
        "for key_value_pair in person.items():\n",
        "    print(key_value_pair)"
      ]
    },
    {
      "cell_type": "markdown",
      "metadata": {
        "id": "eAeNvDUB6PhL"
      },
      "source": [
        "Since a key-value pair is a tuple, we can also extract the key & value into separate variables."
      ]
    },
    {
      "cell_type": "code",
      "execution_count": null,
      "metadata": {
        "id": "yOCF2Yx56PhL"
      },
      "outputs": [],
      "source": [
        "for key, value in person.items():\n",
        "    print(\"Key:\", key, \",\", \"Value:\", value)"
      ]
    },
    {
      "cell_type": "markdown",
      "metadata": {
        "id": "OqsXIQSM6PhL"
      },
      "source": [
        "### Iterating using `range` and `enumerate`\n",
        "\n",
        "The `range` function is used to create a sequence of numbers that can be iterated over using a `for` loop. It can be used in 3 ways:\n",
        "\n",
        "* `range(n)` - Creates a sequence of numbers from `0` to `n-1`\n",
        "* `range(a, b)` - Creates a sequence of numbers from `a` to `b-1`\n",
        "* `range(a, b, step)` - Creates a sequence of numbers from `a` to `b-1` with increments of `step`\n",
        "\n",
        "Let's try it out."
      ]
    },
    {
      "cell_type": "code",
      "execution_count": null,
      "metadata": {
        "id": "HwL-q08a6PhL"
      },
      "outputs": [],
      "source": [
        "for i in range(7):\n",
        "    print(i)"
      ]
    },
    {
      "cell_type": "code",
      "execution_count": null,
      "metadata": {
        "id": "4vGTNSlt6PhL"
      },
      "outputs": [],
      "source": [
        "for i in range(3, 10):\n",
        "    print(i)"
      ]
    },
    {
      "cell_type": "code",
      "execution_count": null,
      "metadata": {
        "id": "9nuun_jl6PhL"
      },
      "outputs": [],
      "source": [
        "for i in range(3, 14, 4):\n",
        "    print(i)"
      ]
    },
    {
      "cell_type": "markdown",
      "metadata": {
        "id": "VEnx6UYt6PhL"
      },
      "source": [
        "Ranges are used for iterating over lists when you need to track the index of elements while iterating."
      ]
    },
    {
      "cell_type": "code",
      "execution_count": null,
      "metadata": {
        "id": "vHYe5SWD6PhL"
      },
      "outputs": [],
      "source": [
        "a_list = ['Monday', 'Tuesday', 'Wednesday', 'Thursday', 'Friday']\n",
        "\n",
        "for i in range(len(a_list)):\n",
        "    print('The value at position {} is {}.'.format(i, a_list[i]))"
      ]
    },
    {
      "cell_type": "markdown",
      "metadata": {
        "id": "QSsj22sT6PhL"
      },
      "source": [
        "Another way to achieve the same result is by using the `enumerate` function with `a_list` as an input, which returns a tuple containing the index and the corresponding element."
      ]
    },
    {
      "cell_type": "code",
      "execution_count": null,
      "metadata": {
        "id": "ul611G7U6PhL"
      },
      "outputs": [],
      "source": [
        "for i, val in enumerate(a_list):\n",
        "    print('The value at position {} is {}.'.format(i, val))"
      ]
    },
    {
      "cell_type": "markdown",
      "metadata": {
        "id": "64nGXyVF6PhL"
      },
      "source": [
        "### `break`, `continue` and `pass` statements\n",
        "\n",
        "Similar to `while` loops, `for` loops also support the `break` and `continue` statements. `break` is used for breaking out of the loop and `continue` is used for skipping ahead to the next iteration."
      ]
    },
    {
      "cell_type": "code",
      "execution_count": null,
      "metadata": {
        "id": "6TOAcTgF6PhM"
      },
      "outputs": [],
      "source": [
        "weekdays = ['Monday', 'Tuesday', 'Wednesday', 'Thursday', 'Friday']"
      ]
    },
    {
      "cell_type": "code",
      "execution_count": null,
      "metadata": {
        "id": "73l1ZRH06PhM"
      },
      "outputs": [],
      "source": [
        "for day in weekdays:\n",
        "    print('Today is {}'.format(day))\n",
        "    if (day == 'Wednesday'):\n",
        "        print(\"I don't work beyond Wednesday!\")\n",
        "        break"
      ]
    },
    {
      "cell_type": "code",
      "execution_count": null,
      "metadata": {
        "id": "dXAQMXUB6PhM"
      },
      "outputs": [],
      "source": [
        "for day in weekdays:\n",
        "    if (day == 'Wednesday'):\n",
        "        print(\"I don't work on Wednesday!\")\n",
        "        continue\n",
        "    print('Today is {}'.format(day))"
      ]
    },
    {
      "cell_type": "markdown",
      "metadata": {
        "id": "dNxlczqJ6PhM"
      },
      "source": [
        "Like `if` statements, `for` loops cannot be empty, so you can use a `pass` statement if you don't want to execute any statements inside the loop."
      ]
    },
    {
      "cell_type": "code",
      "execution_count": null,
      "metadata": {
        "id": "P6O4FI166PhM"
      },
      "outputs": [],
      "source": [
        "for day in weekdays:\n",
        "    pass"
      ]
    },
    {
      "cell_type": "markdown",
      "metadata": {
        "id": "EFWUrkDb6PhM"
      },
      "source": [
        "### Nested `for` and `while` loops\n",
        "\n",
        "Similar to conditional statements, loops can be nested inside other loops. This is useful for looping lists of lists, dictionaries etc."
      ]
    },
    {
      "cell_type": "code",
      "execution_count": null,
      "metadata": {
        "id": "GJtVHtUV6PhM"
      },
      "outputs": [],
      "source": [
        "persons = [{'name': 'John', 'sex': 'Male'}, {'name': 'Jane', 'sex': 'Female'}]\n",
        "\n",
        "for person in persons:\n",
        "    for key in person:\n",
        "        print(key, \":\", person[key])\n",
        "    print(\" \")"
      ]
    },
    {
      "cell_type": "code",
      "execution_count": null,
      "metadata": {
        "id": "qMl11LJb6PhM"
      },
      "outputs": [],
      "source": [
        "days = ['Monday', 'Tuesday', 'Wednesday']\n",
        "fruits = ['apple', 'banana', 'guava']\n",
        "\n",
        "for day in days:\n",
        "    for fruit in fruits:\n",
        "        print(day, fruit)"
      ]
    },
    {
      "cell_type": "markdown",
      "metadata": {
        "id": "paLUr7Fh6PhM"
      },
      "source": [
        "With this, we conclude our discussion of branching and loops in Python."
      ]
    },
    {
      "cell_type": "markdown",
      "metadata": {
        "id": "FOuLT1sK6PhM"
      },
      "source": [
        "## Questions for Revision\n",
        "\n",
        "Try answering the following questions to test your understanding of the topics covered in this notebook:\n",
        "\n",
        "1. What is branching in programming languages?\n",
        "2. What is the purpose of the `if` statement in Python?\n",
        "3. What is the syntax of the `if` statement? Give an example.\n",
        "4. What is indentation? Why is it used?\n",
        "5. What is an indented block of statements?\n",
        "6. How do you perform indentation in Python?\n",
        "7. What happens if some code is not indented correctly?\n",
        "8. What happens when the condition within the `if` statement evaluates to `True`? What happens if the condition evaluates for `false`?\n",
        "9. How do you check if a number is even?\n",
        "10. What is the purpose of the `else` statement in Python?\n",
        "11. What is the syntax of the `else` statement? Give an example.\n",
        "12. Write a program that prints different messages based on whether a number is positive or negative.\n",
        "13. Can the `else` statement be used without an `if` statement?\n",
        "14. What is the purpose of the `elif` statement in Python?\n",
        "15. What is the syntax of the `elif` statement? Give an example.\n",
        "16. Write a program that prints different messages for different months of the year.\n",
        "17. Write a program that uses `if`, `elif`, and `else` statements together.\n",
        "18. Can the `elif` statement be used without an `if` statement?\n",
        "19. Can the `elif` statement be used without an `else` statement?\n",
        "20. What is the difference between a chain of `if`, `elif`, `elif`… statements and a chain of `if`, `if`, `if`… statements? Give an example.\n",
        "21. Can non-boolean conditions be used with `if` statements? Give some examples.\n",
        "22. What are nested conditional statements? How are they useful?\n",
        "23. Give an example of nested conditional statements.\n",
        "24. Why is it advisable to avoid nested conditional statements?\n",
        "25. What is the shorthand `if` conditional expression?\n",
        "26. What is the syntax of the shorthand `if` conditional expression? Give an example.\n",
        "27. What is the difference between the shorthand `if` expression and the regular `if` statement?\n",
        "28. What is a statement in Python?\n",
        "29. What is an expression in Python?\n",
        "30. What is the difference between statements and expressions?\n",
        "31. Is every statement an expression? Give an example or counterexample.\n",
        "32. Is every expression a statement? Give an example or counterexample.\n",
        "33. What is the purpose of the pass statement in `if` blocks?\n",
        "34. What is iteration or looping in programming languages? Why is it useful?\n",
        "35. What are the two ways for performing iteration in Python?\n",
        "36. What is the purpose of the `while` statement in Python?\n",
        "37. What is the syntax of the `white` statement in Python? Give an example.\n",
        "38. Write a program to compute the sum of the numbers 1 to 100 using a while loop.\n",
        "39. Repeat the above program for numbers up to 1000, 10000, and 100000. How long does it take each loop to complete?\n",
        "40. What is an infinite loop?\n",
        "41. What causes a program to enter an infinite loop?\n",
        "42. How do you interrupt an infinite loop within Jupyter?\n",
        "43. What is the purpose of the `break` statement in Python?\n",
        "44. Give an example of using a `break` statement within a while loop.\n",
        "45. What is the purpose of the `continue` statement in Python?\n",
        "46. Give an example of using the `continue` statement within a while loop.\n",
        "47. What is logging? How is it useful?\n",
        "48. What is the purpose of the `for` statement in Python?\n",
        "49. What is the syntax of `for` loops? Give an example.\n",
        "50. How are for loops and while loops different?\n",
        "51. How do you loop over a string? Give an example.\n",
        "52. How do you loop over a list? Give an example.\n",
        "53. How do you loop over a tuple? Give an example.\n",
        "54. How do you loop over a dictionary? Give an example.\n",
        "55. What is the purpose of the `range` statement? Give an example.\n",
        "56. What is the purpose of the `enumerate` statement? Give an example.\n",
        "57. How are the `break`, `continue`, and `pass` statements used in for loops? Give examples.\n",
        "58. Can loops be nested within other loops? How is nesting useful?\n",
        "59. Give an example of a for loop nested within another for loop.\n",
        "60. Give an example of a while loop nested within another while loop.\n",
        "61. Give an example of a for loop nested within a while loop.\n",
        "62. Give an example of a while loop nested within a for loop.\n",
        "\n"
      ]
    },
    {
      "cell_type": "code",
      "execution_count": null,
      "metadata": {
        "id": "Ty9ghTlJ6PhN"
      },
      "outputs": [],
      "source": []
    }
  ],
  "metadata": {
    "language_info": {
      "name": "python"
    },
    "colab": {
      "provenance": [],
      "toc_visible": true
    },
    "kernelspec": {
      "name": "python3",
      "display_name": "Python 3"
    }
  },
  "nbformat": 4,
  "nbformat_minor": 0
}